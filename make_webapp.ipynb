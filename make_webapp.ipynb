{
 "cells": [
  {
   "cell_type": "code",
   "execution_count": 4,
   "id": "eab691d4-7d5c-426b-ba16-40d63d67f053",
   "metadata": {},
   "outputs": [],
   "source": [
    "import streamlit as st\n",
    "import pandas as pd\n",
    "import plotly.express as px\n",
    "import matplotlib.pyplot as plt\n",
    "import warnings\n",
    "warnings.filterwarnings('ignore')\n",
    "\n",
    "\n",
    "def cal_prop(segment):\n",
    "    data['s_cumsum'] = data[segment].cumsum()\n",
    "    data['s_bal'] = data['s_cumsum'] - data['s_cumsum'].min()\n",
    "    return data['s_bal']/data['s_bal'].max()\n",
    "\n",
    "def avg_price(segment):\n",
    "\n",
    "    data['s_cumsum'] = data[segment].cumsum()\n",
    "    data['s_bal'] = data['s_cumsum'] - data['s_cumsum'].min()    \n",
    "    avg_price = data[['종가','s_bal']].prod(axis=1).cumsum()/data['s_bal'].cumsum()\n",
    "\n",
    "\n",
    "    return avg_price\n",
    "\n",
    "# Title of the web application\n",
    "st.title('Excel to Graph Converter')\n",
    "\n",
    "# File uploader widget\n",
    "uploaded_file = st.file_uploader(\"Choose an Excel file\", type=['xlsx'])\n",
    "\n",
    "if uploaded_file is not None:\n",
    "    # Use Pandas to read the Excel file\n",
    "\n",
    "    ax = cal_prop('외국인').plot(figsize=(15,6), color='green', label='foreigner')\n",
    "    ax = cal_prop('개인').plot(figsize=(15,6), color='orangered', label='individuals')\n",
    "    ax = cal_prop('기관종합').plot(figsize=(15,6), color='blue', label='institutions')\n",
    "    ax2 = ax.twinx()\n",
    "    ax2 = data['종가'].plot(figsize=(15,6), color='black', label='price')\n",
    "\n",
    "# ax = avg_price('외국인').plot(figsize=(15,6), color='green', linestyle='--', alpha=0.5)\n",
    "# ax = avg_price('개인').plot(figsize=(15,6), color='orangered', linestyle='--', alpha=0.5)\n",
    "# ax = avg_price('기관종합').plot(figsize=(15,6), color='blue', linestyle='--', alpha=0.5)\n",
    "# f_price = avg_price('외국인')[-1]\n",
    "# i_price = avg_price('개인')[-1]\n",
    "# s_price = avg_price('기관종합')[-1]\n",
    "# ax2.axhline(f_price, color='green', linestyle='--')\n",
    "# ax2.axhline(i_price, color='orangered', linestyle='--')\n",
    "# ax2.axhline(s_price, color='blue', linestyle='--')\n",
    "    plt.title('HyunDae Steel')\n",
    "    ax.legend(loc='upper left')\n",
    "    ax2.legend(loc='upper right')\n",
    "\n",
    "    # Allow the user to select the column for the x-axis and the y-axis\n",
    "    # x_axis = st.selectbox('Choose column for x-axis', df.columns)\n",
    "    # y_axis = st.selectbox('Choose column for y-axis', df.columns)\n",
    "\n",
    "    # Generate and display the plot\n",
    "    # if st.button('Generate Graph'):\n",
    "    #     fig = px.line(df, x=x_axis, y=y_axis)  # Using a line graph as an example\n",
    "    #     st.plotly_chart(fig)"
   ]
  },
  {
   "cell_type": "code",
   "execution_count": 6,
   "id": "63485a4c-16ca-48dd-87f8-2fd21e282e2c",
   "metadata": {},
   "outputs": [
    {
     "data": {
      "text/plain": [
       "['IN_IPYTHON',\n",
       " 'StreamlitPatcher',\n",
       " '__builtins__',\n",
       " '__cached__',\n",
       " '__doc__',\n",
       " '__file__',\n",
       " '__loader__',\n",
       " '__name__',\n",
       " '__package__',\n",
       " '__path__',\n",
       " '__spec__',\n",
       " '__version__',\n",
       " 'core',\n",
       " 'tqdm',\n",
       " 'utils']"
      ]
     },
     "execution_count": 6,
     "metadata": {},
     "output_type": "execute_result"
    }
   ],
   "source": [
    "dir(stj)"
   ]
  },
  {
   "cell_type": "code",
   "execution_count": 11,
   "id": "42f059bb-2fc4-454e-bab5-ef7a05d5eede",
   "metadata": {},
   "outputs": [
    {
     "data": {
      "text/plain": [
       "['__annotations__',\n",
       " '__builtins__',\n",
       " '__call__',\n",
       " '__class__',\n",
       " '__closure__',\n",
       " '__code__',\n",
       " '__defaults__',\n",
       " '__delattr__',\n",
       " '__dict__',\n",
       " '__dir__',\n",
       " '__doc__',\n",
       " '__eq__',\n",
       " '__format__',\n",
       " '__ge__',\n",
       " '__get__',\n",
       " '__getattribute__',\n",
       " '__globals__',\n",
       " '__gt__',\n",
       " '__hash__',\n",
       " '__init__',\n",
       " '__init_subclass__',\n",
       " '__kwdefaults__',\n",
       " '__le__',\n",
       " '__lt__',\n",
       " '__module__',\n",
       " '__name__',\n",
       " '__ne__',\n",
       " '__new__',\n",
       " '__qualname__',\n",
       " '__reduce__',\n",
       " '__reduce_ex__',\n",
       " '__repr__',\n",
       " '__setattr__',\n",
       " '__sizeof__',\n",
       " '__str__',\n",
       " '__subclasshook__']"
      ]
     },
     "execution_count": 11,
     "metadata": {},
     "output_type": "execute_result"
    }
   ],
   "source": [
    "dir(stj.StreamlitPatcher.jupyter)"
   ]
  },
  {
   "cell_type": "code",
   "execution_count": null,
   "id": "fe5b8f43-db9b-4d48-92f6-f6dfd5df7c23",
   "metadata": {},
   "outputs": [],
   "source": []
  }
 ],
 "metadata": {
  "kernelspec": {
   "display_name": "kis",
   "language": "python",
   "name": "kis"
  },
  "language_info": {
   "codemirror_mode": {
    "name": "ipython",
    "version": 3
   },
   "file_extension": ".py",
   "mimetype": "text/x-python",
   "name": "python",
   "nbconvert_exporter": "python",
   "pygments_lexer": "ipython3",
   "version": "3.10.10"
  }
 },
 "nbformat": 4,
 "nbformat_minor": 5
}
