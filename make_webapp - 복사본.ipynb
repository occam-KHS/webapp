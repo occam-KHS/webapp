{
 "cells": [
  {
   "cell_type": "code",
   "execution_count": 2,
   "id": "eab691d4-7d5c-426b-ba16-40d63d67f053",
   "metadata": {},
   "outputs": [
    {
     "name": "stderr",
     "output_type": "stream",
     "text": [
      "2024-04-07 07:26:25.751 \n",
      "  \u001b[33m\u001b[1mWarning:\u001b[0m to view this Streamlit app on a browser, run it with the following\n",
      "  command:\n",
      "\n",
      "    streamlit run C:\\Users\\OCCAM1\\.conda\\envs\\kis\\lib\\site-packages\\ipykernel_launcher.py [ARGUMENTS]\n"
     ]
    }
   ],
   "source": [
    "import streamlit as st\n",
    "import pandas as pd\n",
    "import plotly.express as px\n",
    "import matplotlib.pyplot as plt\n",
    "import warnings\n",
    "warnings.filterwarnings('ignore')\n",
    "\n",
    "def cal_prop(segment):\n",
    "    data['s_cumsum'] = data[segment].cumsum()\n",
    "    data['s_bal'] = data['s_cumsum'] - data['s_cumsum'].min()\n",
    "    return data['s_bal']/data['s_bal'].max()\n",
    "\n",
    "def avg_price(segment):\n",
    "    \n",
    "    data['s_cumsum'] = data[segment].cumsum()\n",
    "    data['s_bal'] = data['s_cumsum'] - data['s_cumsum'].min()    \n",
    "    avg_price = data[['종가','s_bal']].prod(axis=1).cumsum()/data['s_bal'].cumsum()\n",
    "    \n",
    "\n",
    "    return avg_price\n",
    "\n",
    "# Title of the web application\n",
    "st.title('Excel to Graph Converter')\n",
    "\n",
    "# File uploader widget\n",
    "uploaded_file = st.file_uploader(\"Choose an Excel file\", type=['xlsx'])\n",
    "\n",
    "if uploaded_file is not None:\n",
    "    # Use Pandas to read the Excel file\n",
    "    \n",
    "    ax = cal_prop('외국인').plot(figsize=(15,6), color='green', label='foreigner')\n",
    "    ax = cal_prop('개인').plot(figsize=(15,6), color='orangered', label='individuals')\n",
    "    ax = cal_prop('기관종합').plot(figsize=(15,6), color='blue', label='institutions')\n",
    "    ax2 = ax.twinx()\n",
    "    ax2 = data['종가'].plot(figsize=(15,6), color='black', label='price')\n",
    "\n",
    "# ax = avg_price('외국인').plot(figsize=(15,6), color='green', linestyle='--', alpha=0.5)\n",
    "# ax = avg_price('개인').plot(figsize=(15,6), color='orangered', linestyle='--', alpha=0.5)\n",
    "# ax = avg_price('기관종합').plot(figsize=(15,6), color='blue', linestyle='--', alpha=0.5)\n",
    "# f_price = avg_price('외국인')[-1]\n",
    "# i_price = avg_price('개인')[-1]\n",
    "# s_price = avg_price('기관종합')[-1]\n",
    "# ax2.axhline(f_price, color='green', linestyle='--')\n",
    "# ax2.axhline(i_price, color='orangered', linestyle='--')\n",
    "# ax2.axhline(s_price, color='blue', linestyle='--')\n",
    "    plt.title('HyunDae Steel')\n",
    "    ax.legend(loc='upper left')\n",
    "    ax2.legend(loc='upper right')\n",
    "\n",
    "    # Allow the user to select the column for the x-axis and the y-axis\n",
    "    # x_axis = st.selectbox('Choose column for x-axis', df.columns)\n",
    "    # y_axis = st.selectbox('Choose column for y-axis', df.columns)\n",
    "\n",
    "    # Generate and display the plot\n",
    "    # if st.button('Generate Graph'):\n",
    "    #     fig = px.line(df, x=x_axis, y=y_axis)  # Using a line graph as an example\n",
    "    #     st.plotly_chart(fig)"
   ]
  },
  {
   "cell_type": "code",
   "execution_count": null,
   "id": "f438414a-ab06-4ee4-963d-93e4dbdcb6fd",
   "metadata": {},
   "outputs": [],
   "source": []
  }
 ],
 "metadata": {
  "kernelspec": {
   "display_name": "kis",
   "language": "python",
   "name": "kis"
  },
  "language_info": {
   "codemirror_mode": {
    "name": "ipython",
    "version": 3
   },
   "file_extension": ".py",
   "mimetype": "text/x-python",
   "name": "python",
   "nbconvert_exporter": "python",
   "pygments_lexer": "ipython3",
   "version": "3.10.10"
  }
 },
 "nbformat": 4,
 "nbformat_minor": 5
}
